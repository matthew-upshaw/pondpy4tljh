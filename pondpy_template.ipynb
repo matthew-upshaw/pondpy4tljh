{
 "cells": [
  {
   "cell_type": "markdown",
   "metadata": {},
   "source": [
    "# Pondpy Template\n",
    "This Jupyter Notebook template provides a starting point for analyzing roof bays for ponding stability according to IBC 2021 and ASCE 7-16 using the pondpy package.\n",
    "\n",
    "## How to Use\n",
    "To use this template simply enter your own data below where prompted and run the processing code at the bottom of the notebook.\n",
    "Note: Use caution when editing the processing code. Some changes could cause the code to not run correctly.\n",
    "\n",
    "<small><i>Feel free to delete this section.</i></small>"
   ]
  },
  {
   "cell_type": "markdown",
   "metadata": {},
   "source": [
    "## Project Information\n",
    "**Project Name:** Your Project Name\n",
    "\n",
    "**Project Number:** Your Project Number\n",
    "\n",
    "**Designer:** Your Initials\n",
    "\n",
    "**Date:** Today's Date\n",
    "\n",
    "<small>You can optionally enter project information into the python variables below. These will be used when generating reports for your analyses.</small>"
   ]
  },
  {
   "cell_type": "code",
   "execution_count": 1,
   "metadata": {},
   "outputs": [],
   "source": [
    "# Project Information\n",
    "project_name : str = '' # Enter project name as string\n",
    "project_number : str = '' # Enter project number as string\n",
    "calc_description : list = ['',] # Enter a list of calculation descriptions as strings for each calculation to be performed"
   ]
  },
  {
   "cell_type": "markdown",
   "metadata": {},
   "source": [
    "## Analysis Setup\n",
    "\n",
    "Here, you can enter various pieces of information that will be needed to run the analyses.\n",
    "\n",
    "<small><b>Note: Be sure to enter all dimensioned criteria in the unit specified. Otherwise, results will not be accurate.</b></small>"
   ]
  },
  {
   "cell_type": "markdown",
   "metadata": {},
   "source": [
    "### Beam and Joist Sizes"
   ]
  },
  {
   "cell_type": "code",
   "execution_count": 2,
   "metadata": {},
   "outputs": [],
   "source": [
    "# Beam Sizes\n",
    "# Enter all AISC W-shape sections that will be used in the analyses into the beam_sizes list.\n",
    "beam_sizes : list = ['w12x16',]\n",
    "\n",
    "# Joist Sizes\n",
    "# Enter all SJI K-series joist designations that will be used in the anlyses into the joist_sizes list.\n",
    "joist_sizes : list = ['14k1',]"
   ]
  },
  {
   "cell_type": "markdown",
   "metadata": {},
   "source": [
    "### Roof Bay(s) Information"
   ]
  },
  {
   "cell_type": "code",
   "execution_count": 3,
   "metadata": {},
   "outputs": [],
   "source": [
    "# Enter number of roof bays that you wish to analyze.\n",
    "n_roof_bays : int = 0\n",
    "\n",
    "# Enter information about each roof bay into lists. Note: the length of each list below must match the number of roof bays you entered above.\n",
    "\n",
    "# Enter primary member sizes for each bay. These are typically the 2 girders at each end of the bay.\n",
    "# Each roof bay will have its own list of members. The sizes entered here must be in the list of sizes that you created above.\n",
    "primary_members_size : list = [\n",
    "    [],\n",
    "]\n",
    "\n",
    "# Enter the length of each primary member in ft.\n",
    "primary_members_length : list = [\n",
    "    [],\n",
    "]\n",
    "\n",
    "# Enter the location (in ft) and type of each support for each primary member.\n",
    "# Support types include 'Pinned', 'Roller', and 'Fixed'\n",
    "# Each support should be entered as a (location, type) pair.\n",
    "# For example, (0, 'Pinned') indicates that there is a pin-support at the left end of the member.\n",
    "# Supports can be entered at any point along the length of the beam.\n",
    "primary_members_support : list = [\n",
    "    [[(0, 'pinned'), (0, 'pinned'),], [(0, 'pinned'), (0, 'pinned'),],],\n",
    "]\n",
    "\n",
    "# Enter secondary member sizes for each bay. These can be either beam sections or joist designations as entered in the lists of sizes above.\n",
    "# As with the primary members, each roof bay will have its own list. Roof bays do not have to have the same number of secondary members as each other.\n",
    "# Note: Include all secondary members, including those at the ends of the bays\n",
    "secondary_members_size : list = [\n",
    "    [],\n",
    "]\n",
    "\n",
    "# Enter the length of each secondary member in ft.\n",
    "secondary_members_length : list = [\n",
    "    [],\n",
    "]\n",
    "\n",
    "# Enter the location (in ft) and type of each support for each secondary member.\n",
    "secondary_members_support : list = [\n",
    "    [[(0, 'pinned'), (0, 'pinned'),], [(0, 'pinned'), (0, 'pinned'),], [(0, 'pinned'), (0, 'pinned'),], [(0, 'pinned'), (0, 'pinned'),], [(0, 'pinned'), (0, 'pinned'),],],\n",
    "]\n",
    "\n",
    "# Indicate whether each roof bay is mirrored on the left or right side. This will help the pondpy package determine how much load to place on the end secondary members.\n",
    "# Enter each row as a pair of booleans, the first of which is for the left side and the second is for the right side.\n",
    "# For example, (True, False) would indicate that the roof bay is mirrored on the left but not the right.\n",
    "roof_bay_mirrored : list = [\n",
    "    (),\n",
    "]\n",
    "\n",
    "# Enter the roof slope for each roof bay. The slope should be entered in inches or rise/fall per 12 inches of length.\n",
    "# For example, 1/4:12 would be entered as 1/4 or simply 0.25. It is not necessary to indicate the direction of slope (i.e. -0.25 vs 0.25)\n",
    "roof_slope : list = [\n",
    "    \n",
    "]"
   ]
  },
  {
   "cell_type": "markdown",
   "metadata": {},
   "source": [
    "### Loading Information"
   ]
  },
  {
   "cell_type": "code",
   "execution_count": 4,
   "metadata": {},
   "outputs": [],
   "source": [
    "# Enter the dead and rain loading information for each roof bay.\n",
    "# Note: The length of each list below should match the number of roof bays indicated in the previous step.\n",
    "\n",
    "# Enter the collateral dead load in psf\n",
    "# Positive load is assumed to act downwards\n",
    "dead_load_input : list = [\n",
    "\n",
    "]\n",
    "\n",
    "# Enter the depth of impounded water at the secondary drainage inlet in inches\n",
    "# The depth should be entered as a (static head, hydraulic head) pair.\n",
    "# For example, (2.0, 3.5) indicates that the static head is 2 inches and the hydraulic head is 3.5 inches.\n",
    "rain_load_input : list = [\n",
    "    (2, 3.5),\n",
    "]\n",
    "\n",
    "# Indicate whether or not the self-weight of the members should be considered in the analysis of the roof bay.\n",
    "# Self-weight is considered for all members by default.\n",
    "include_self_weight = True"
   ]
  },
  {
   "cell_type": "markdown",
   "metadata": {},
   "source": [
    "## Process Input and Perform Analyses\n",
    "\n",
    "This section of code will take the information you entered above, process it into a form that is readily usable by the pondpy package, and call the appropriate pondpy analysis methods to analyze each roof bay.\n",
    "\n",
    "<small><b>Note: Unless you are very familiar with both pondpy's methods and calls and the functions used herein, <i>it is recommended that you do not edit any of the code below.</i></b></small>"
   ]
  },
  {
   "cell_type": "markdown",
   "metadata": {},
   "source": [
    "### Import Dependencies"
   ]
  },
  {
   "cell_type": "code",
   "execution_count": 5,
   "metadata": {},
   "outputs": [],
   "source": [
    "from pondpy4tljh import analyze_roof_bays"
   ]
  },
  {
   "cell_type": "markdown",
   "metadata": {},
   "source": [
    "### Package Up, Validate, and Run the Analysis on the Input"
   ]
  },
  {
   "cell_type": "code",
   "execution_count": 6,
   "metadata": {},
   "outputs": [
    {
     "name": "stdout",
     "output_type": "stream",
     "text": [
      "\u001b[36m\u001b[1mPacking up the user input...\u001b[0m\n",
      "\u001b[36m\u001b[1mValidating the input...\u001b[0m\n",
      "\u001b[92m\u001b[1mInput successfully validated!\u001b[1m\n"
     ]
    }
   ],
   "source": [
    "# Use the analyze_roof_bay function from pondpy4tljh to analyze the input\n",
    "analyze_roof_bays(\n",
    "    project_name = project_name,\n",
    "    project_number = project_number,\n",
    "    calc_description = calc_description,\n",
    "    beam_sizes = beam_sizes,\n",
    "    joist_sizes = joist_sizes,\n",
    "    n_roof_bays = n_roof_bays,\n",
    "    primary_members_size = primary_members_size,\n",
    "    primary_members_length = primary_members_length,\n",
    "    primary_members_support = primary_members_support,\n",
    "    secondary_members_size = secondary_members_size,\n",
    "    secondary_members_length = secondary_members_length,\n",
    "    secondary_members_support = secondary_members_support,\n",
    "    roof_bay_mirrored = roof_bay_mirrored,\n",
    "    roof_slope = roof_slope,\n",
    "    dead_load_input = dead_load_input,\n",
    "    rain_load_input = rain_load_input,\n",
    "    include_self_weight = include_self_weight,\n",
    ")"
   ]
  },
  {
   "cell_type": "code",
   "execution_count": null,
   "metadata": {},
   "outputs": [],
   "source": []
  }
 ],
 "metadata": {
  "kernelspec": {
   "display_name": "venv",
   "language": "python",
   "name": "python3"
  },
  "language_info": {
   "codemirror_mode": {
    "name": "ipython",
    "version": 3
   },
   "file_extension": ".py",
   "mimetype": "text/x-python",
   "name": "python",
   "nbconvert_exporter": "python",
   "pygments_lexer": "ipython3",
   "version": "3.12.3"
  }
 },
 "nbformat": 4,
 "nbformat_minor": 2
}
